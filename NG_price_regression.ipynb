{
 "cells": [
  {
   "cell_type": "code",
   "execution_count": 70,
   "id": "4e4a2175-a5f7-494c-aa8d-4557dbd31b3e",
   "metadata": {},
   "outputs": [],
   "source": [
    "import numpy as np\n",
    "import pandas as pd\n",
    "\n",
    "import matplotlib.pyplot as plt\n",
    "import seaborn as sns\n",
    "sns.set_theme()\n",
    "sns.set(rc={'figure.figsize':(15, 9)})\n",
    "sns.set(font_scale=1.5) "
   ]
  },
  {
   "cell_type": "code",
   "execution_count": 71,
   "id": "8001fcd5-4046-4a64-99a4-bd0a41fd2c10",
   "metadata": {},
   "outputs": [
    {
     "data": {
      "text/html": [
       "<div>\n",
       "<style scoped>\n",
       "    .dataframe tbody tr th:only-of-type {\n",
       "        vertical-align: middle;\n",
       "    }\n",
       "\n",
       "    .dataframe tbody tr th {\n",
       "        vertical-align: top;\n",
       "    }\n",
       "\n",
       "    .dataframe thead th {\n",
       "        text-align: right;\n",
       "    }\n",
       "</style>\n",
       "<table border=\"1\" class=\"dataframe\">\n",
       "  <thead>\n",
       "    <tr style=\"text-align: right;\">\n",
       "      <th></th>\n",
       "      <th>Date</th>\n",
       "      <th>Price</th>\n",
       "      <th>Open</th>\n",
       "      <th>High</th>\n",
       "      <th>Low</th>\n",
       "      <th>Vol.</th>\n",
       "      <th>Change %</th>\n",
       "    </tr>\n",
       "  </thead>\n",
       "  <tbody>\n",
       "    <tr>\n",
       "      <th>0</th>\n",
       "      <td>Aug 07, 2022</td>\n",
       "      <td>8.768</td>\n",
       "      <td>7.867</td>\n",
       "      <td>8.989</td>\n",
       "      <td>7.559</td>\n",
       "      <td>68.13K</td>\n",
       "      <td>8.73%</td>\n",
       "    </tr>\n",
       "    <tr>\n",
       "      <th>1</th>\n",
       "      <td>Jul 31, 2022</td>\n",
       "      <td>8.064</td>\n",
       "      <td>7.910</td>\n",
       "      <td>8.480</td>\n",
       "      <td>7.550</td>\n",
       "      <td>446.85K</td>\n",
       "      <td>-2.01%</td>\n",
       "    </tr>\n",
       "    <tr>\n",
       "      <th>2</th>\n",
       "      <td>Jul 24, 2022</td>\n",
       "      <td>8.229</td>\n",
       "      <td>8.390</td>\n",
       "      <td>9.752</td>\n",
       "      <td>8.010</td>\n",
       "      <td>240.26K</td>\n",
       "      <td>-0.84%</td>\n",
       "    </tr>\n",
       "    <tr>\n",
       "      <th>3</th>\n",
       "      <td>Jul 17, 2022</td>\n",
       "      <td>8.299</td>\n",
       "      <td>7.168</td>\n",
       "      <td>8.417</td>\n",
       "      <td>7.078</td>\n",
       "      <td>457.39K</td>\n",
       "      <td>18.29%</td>\n",
       "    </tr>\n",
       "    <tr>\n",
       "      <th>4</th>\n",
       "      <td>Jul 10, 2022</td>\n",
       "      <td>7.016</td>\n",
       "      <td>6.446</td>\n",
       "      <td>7.144</td>\n",
       "      <td>6.014</td>\n",
       "      <td>585.16K</td>\n",
       "      <td>16.27%</td>\n",
       "    </tr>\n",
       "  </tbody>\n",
       "</table>\n",
       "</div>"
      ],
      "text/plain": [
       "           Date  Price   Open   High    Low     Vol. Change %\n",
       "0  Aug 07, 2022  8.768  7.867  8.989  7.559   68.13K    8.73%\n",
       "1  Jul 31, 2022  8.064  7.910  8.480  7.550  446.85K   -2.01%\n",
       "2  Jul 24, 2022  8.229  8.390  9.752  8.010  240.26K   -0.84%\n",
       "3  Jul 17, 2022  8.299  7.168  8.417  7.078  457.39K   18.29%\n",
       "4  Jul 10, 2022  7.016  6.446  7.144  6.014  585.16K   16.27%"
      ]
     },
     "execution_count": 71,
     "metadata": {},
     "output_type": "execute_result"
    }
   ],
   "source": [
    "df_price = pd.read_csv('data/NG-weekly.csv')\n",
    "df_price.head()"
   ]
  },
  {
   "cell_type": "code",
   "execution_count": 72,
   "id": "f9174fdf-a904-4cff-a77b-c1a092354ab5",
   "metadata": {},
   "outputs": [
    {
     "data": {
      "text/html": [
       "<div>\n",
       "<style scoped>\n",
       "    .dataframe tbody tr th:only-of-type {\n",
       "        vertical-align: middle;\n",
       "    }\n",
       "\n",
       "    .dataframe tbody tr th {\n",
       "        vertical-align: top;\n",
       "    }\n",
       "\n",
       "    .dataframe thead th {\n",
       "        text-align: right;\n",
       "    }\n",
       "</style>\n",
       "<table border=\"1\" class=\"dataframe\">\n",
       "  <thead>\n",
       "    <tr style=\"text-align: right;\">\n",
       "      <th></th>\n",
       "      <th>Date</th>\n",
       "      <th>Weekly Lower 48 States Natural Gas Working Underground Storage (Billion Cubic Feet)</th>\n",
       "    </tr>\n",
       "  </thead>\n",
       "  <tbody>\n",
       "    <tr>\n",
       "      <th>0</th>\n",
       "      <td>2010-01-01</td>\n",
       "      <td>3117</td>\n",
       "    </tr>\n",
       "    <tr>\n",
       "      <th>1</th>\n",
       "      <td>2010-01-08</td>\n",
       "      <td>2850</td>\n",
       "    </tr>\n",
       "    <tr>\n",
       "      <th>2</th>\n",
       "      <td>2010-01-15</td>\n",
       "      <td>2607</td>\n",
       "    </tr>\n",
       "    <tr>\n",
       "      <th>3</th>\n",
       "      <td>2010-01-22</td>\n",
       "      <td>2521</td>\n",
       "    </tr>\n",
       "    <tr>\n",
       "      <th>4</th>\n",
       "      <td>2010-01-29</td>\n",
       "      <td>2406</td>\n",
       "    </tr>\n",
       "  </tbody>\n",
       "</table>\n",
       "</div>"
      ],
      "text/plain": [
       "        Date  \\\n",
       "0 2010-01-01   \n",
       "1 2010-01-08   \n",
       "2 2010-01-15   \n",
       "3 2010-01-22   \n",
       "4 2010-01-29   \n",
       "\n",
       "   Weekly Lower 48 States Natural Gas Working Underground Storage (Billion Cubic Feet)  \n",
       "0                                               3117                                    \n",
       "1                                               2850                                    \n",
       "2                                               2607                                    \n",
       "3                                               2521                                    \n",
       "4                                               2406                                    "
      ]
     },
     "execution_count": 72,
     "metadata": {},
     "output_type": "execute_result"
    }
   ],
   "source": [
    "df_storage = pd.read_excel (r'C:\\Users\\39392\\Desktop\\Data Analytics\\git\\Prediction Model\\data\\ng-storage.xls')\n",
    "df_storage.head()"
   ]
  },
  {
   "cell_type": "code",
   "execution_count": 73,
   "id": "68cdd2e4-b39b-4255-9e7f-798aa7102c17",
   "metadata": {},
   "outputs": [
    {
     "name": "stdout",
     "output_type": "stream",
     "text": [
      "<class 'pandas.core.frame.DataFrame'>\n",
      "RangeIndex: 658 entries, 0 to 657\n",
      "Data columns (total 2 columns):\n",
      " #   Column                                                                               Non-Null Count  Dtype         \n",
      "---  ------                                                                               --------------  -----         \n",
      " 0   Date                                                                                 658 non-null    datetime64[ns]\n",
      " 1   Weekly Lower 48 States Natural Gas Working Underground Storage (Billion Cubic Feet)  658 non-null    int64         \n",
      "dtypes: datetime64[ns](1), int64(1)\n",
      "memory usage: 10.4 KB\n"
     ]
    }
   ],
   "source": [
    "df_storage.info()"
   ]
  },
  {
   "cell_type": "code",
   "execution_count": 74,
   "id": "dea741a5-f95f-4add-9784-43cc2b0a835a",
   "metadata": {},
   "outputs": [
    {
     "data": {
      "text/html": [
       "<div>\n",
       "<style scoped>\n",
       "    .dataframe tbody tr th:only-of-type {\n",
       "        vertical-align: middle;\n",
       "    }\n",
       "\n",
       "    .dataframe tbody tr th {\n",
       "        vertical-align: top;\n",
       "    }\n",
       "\n",
       "    .dataframe thead th {\n",
       "        text-align: right;\n",
       "    }\n",
       "</style>\n",
       "<table border=\"1\" class=\"dataframe\">\n",
       "  <thead>\n",
       "    <tr style=\"text-align: right;\">\n",
       "      <th></th>\n",
       "      <th>Date</th>\n",
       "      <th>storage_bcf</th>\n",
       "    </tr>\n",
       "  </thead>\n",
       "  <tbody>\n",
       "    <tr>\n",
       "      <th>0</th>\n",
       "      <td>2010-01-01</td>\n",
       "      <td>3117</td>\n",
       "    </tr>\n",
       "    <tr>\n",
       "      <th>1</th>\n",
       "      <td>2010-01-08</td>\n",
       "      <td>2850</td>\n",
       "    </tr>\n",
       "    <tr>\n",
       "      <th>2</th>\n",
       "      <td>2010-01-15</td>\n",
       "      <td>2607</td>\n",
       "    </tr>\n",
       "    <tr>\n",
       "      <th>3</th>\n",
       "      <td>2010-01-22</td>\n",
       "      <td>2521</td>\n",
       "    </tr>\n",
       "    <tr>\n",
       "      <th>4</th>\n",
       "      <td>2010-01-29</td>\n",
       "      <td>2406</td>\n",
       "    </tr>\n",
       "  </tbody>\n",
       "</table>\n",
       "</div>"
      ],
      "text/plain": [
       "        Date  storage_bcf\n",
       "0 2010-01-01         3117\n",
       "1 2010-01-08         2850\n",
       "2 2010-01-15         2607\n",
       "3 2010-01-22         2521\n",
       "4 2010-01-29         2406"
      ]
     },
     "execution_count": 74,
     "metadata": {},
     "output_type": "execute_result"
    }
   ],
   "source": [
    "df_storage.rename(columns = {'Weekly Lower 48 States Natural Gas Working Underground Storage (Billion Cubic Feet)':'storage_bcf'}, inplace = True)\n",
    "df_storage.head()"
   ]
  },
  {
   "cell_type": "code",
   "execution_count": 75,
   "id": "674d938c-4f0d-4c94-8986-c4ed2c439259",
   "metadata": {},
   "outputs": [
    {
     "data": {
      "text/html": [
       "<div>\n",
       "<style scoped>\n",
       "    .dataframe tbody tr th:only-of-type {\n",
       "        vertical-align: middle;\n",
       "    }\n",
       "\n",
       "    .dataframe tbody tr th {\n",
       "        vertical-align: top;\n",
       "    }\n",
       "\n",
       "    .dataframe thead th {\n",
       "        text-align: right;\n",
       "    }\n",
       "</style>\n",
       "<table border=\"1\" class=\"dataframe\">\n",
       "  <thead>\n",
       "    <tr style=\"text-align: right;\">\n",
       "      <th></th>\n",
       "      <th>Report_date</th>\n",
       "      <th>storage_bcf</th>\n",
       "    </tr>\n",
       "  </thead>\n",
       "  <tbody>\n",
       "    <tr>\n",
       "      <th>0</th>\n",
       "      <td>2010-01-01</td>\n",
       "      <td>3117</td>\n",
       "    </tr>\n",
       "    <tr>\n",
       "      <th>1</th>\n",
       "      <td>2010-01-08</td>\n",
       "      <td>2850</td>\n",
       "    </tr>\n",
       "    <tr>\n",
       "      <th>2</th>\n",
       "      <td>2010-01-15</td>\n",
       "      <td>2607</td>\n",
       "    </tr>\n",
       "    <tr>\n",
       "      <th>3</th>\n",
       "      <td>2010-01-22</td>\n",
       "      <td>2521</td>\n",
       "    </tr>\n",
       "    <tr>\n",
       "      <th>4</th>\n",
       "      <td>2010-01-29</td>\n",
       "      <td>2406</td>\n",
       "    </tr>\n",
       "  </tbody>\n",
       "</table>\n",
       "</div>"
      ],
      "text/plain": [
       "  Report_date  storage_bcf\n",
       "0  2010-01-01         3117\n",
       "1  2010-01-08         2850\n",
       "2  2010-01-15         2607\n",
       "3  2010-01-22         2521\n",
       "4  2010-01-29         2406"
      ]
     },
     "execution_count": 75,
     "metadata": {},
     "output_type": "execute_result"
    }
   ],
   "source": [
    "df_storage.rename(columns = {'Date':'Report_date'}, inplace = True)\n",
    "df_storage.head()"
   ]
  },
  {
   "cell_type": "code",
   "execution_count": 76,
   "id": "54f38b3b-766e-4735-98db-1cd3f38f9d6c",
   "metadata": {},
   "outputs": [
    {
     "data": {
      "text/html": [
       "<div>\n",
       "<style scoped>\n",
       "    .dataframe tbody tr th:only-of-type {\n",
       "        vertical-align: middle;\n",
       "    }\n",
       "\n",
       "    .dataframe tbody tr th {\n",
       "        vertical-align: top;\n",
       "    }\n",
       "\n",
       "    .dataframe thead th {\n",
       "        text-align: right;\n",
       "    }\n",
       "</style>\n",
       "<table border=\"1\" class=\"dataframe\">\n",
       "  <thead>\n",
       "    <tr style=\"text-align: right;\">\n",
       "      <th></th>\n",
       "      <th>Report_date</th>\n",
       "      <th>storage_bcf</th>\n",
       "    </tr>\n",
       "  </thead>\n",
       "  <tbody>\n",
       "    <tr>\n",
       "      <th>657</th>\n",
       "      <td>2022-08-05</td>\n",
       "      <td>2501</td>\n",
       "    </tr>\n",
       "    <tr>\n",
       "      <th>656</th>\n",
       "      <td>2022-07-29</td>\n",
       "      <td>2457</td>\n",
       "    </tr>\n",
       "    <tr>\n",
       "      <th>655</th>\n",
       "      <td>2022-07-22</td>\n",
       "      <td>2416</td>\n",
       "    </tr>\n",
       "    <tr>\n",
       "      <th>654</th>\n",
       "      <td>2022-07-15</td>\n",
       "      <td>2401</td>\n",
       "    </tr>\n",
       "    <tr>\n",
       "      <th>653</th>\n",
       "      <td>2022-07-08</td>\n",
       "      <td>2369</td>\n",
       "    </tr>\n",
       "  </tbody>\n",
       "</table>\n",
       "</div>"
      ],
      "text/plain": [
       "    Report_date  storage_bcf\n",
       "657  2022-08-05         2501\n",
       "656  2022-07-29         2457\n",
       "655  2022-07-22         2416\n",
       "654  2022-07-15         2401\n",
       "653  2022-07-08         2369"
      ]
     },
     "execution_count": 76,
     "metadata": {},
     "output_type": "execute_result"
    }
   ],
   "source": [
    "df_storage.sort_values(by=[\"Report_date\"], ascending=False, inplace = True)\n",
    "df_storage.head()"
   ]
  },
  {
   "cell_type": "code",
   "execution_count": 77,
   "id": "d8582126-8d5c-42d9-bbbe-4ceb2e0ed09e",
   "metadata": {},
   "outputs": [
    {
     "data": {
      "text/html": [
       "<div>\n",
       "<style scoped>\n",
       "    .dataframe tbody tr th:only-of-type {\n",
       "        vertical-align: middle;\n",
       "    }\n",
       "\n",
       "    .dataframe tbody tr th {\n",
       "        vertical-align: top;\n",
       "    }\n",
       "\n",
       "    .dataframe thead th {\n",
       "        text-align: right;\n",
       "    }\n",
       "</style>\n",
       "<table border=\"1\" class=\"dataframe\">\n",
       "  <thead>\n",
       "    <tr style=\"text-align: right;\">\n",
       "      <th></th>\n",
       "      <th>index</th>\n",
       "      <th>Report_date</th>\n",
       "      <th>storage_bcf</th>\n",
       "    </tr>\n",
       "  </thead>\n",
       "  <tbody>\n",
       "    <tr>\n",
       "      <th>0</th>\n",
       "      <td>657</td>\n",
       "      <td>2022-08-05</td>\n",
       "      <td>2501</td>\n",
       "    </tr>\n",
       "    <tr>\n",
       "      <th>1</th>\n",
       "      <td>656</td>\n",
       "      <td>2022-07-29</td>\n",
       "      <td>2457</td>\n",
       "    </tr>\n",
       "    <tr>\n",
       "      <th>2</th>\n",
       "      <td>655</td>\n",
       "      <td>2022-07-22</td>\n",
       "      <td>2416</td>\n",
       "    </tr>\n",
       "    <tr>\n",
       "      <th>3</th>\n",
       "      <td>654</td>\n",
       "      <td>2022-07-15</td>\n",
       "      <td>2401</td>\n",
       "    </tr>\n",
       "    <tr>\n",
       "      <th>4</th>\n",
       "      <td>653</td>\n",
       "      <td>2022-07-08</td>\n",
       "      <td>2369</td>\n",
       "    </tr>\n",
       "  </tbody>\n",
       "</table>\n",
       "</div>"
      ],
      "text/plain": [
       "   index Report_date  storage_bcf\n",
       "0    657  2022-08-05         2501\n",
       "1    656  2022-07-29         2457\n",
       "2    655  2022-07-22         2416\n",
       "3    654  2022-07-15         2401\n",
       "4    653  2022-07-08         2369"
      ]
     },
     "execution_count": 77,
     "metadata": {},
     "output_type": "execute_result"
    }
   ],
   "source": [
    "df_storage = df_storage.reset_index()\n",
    "df_storage.head()"
   ]
  },
  {
   "cell_type": "code",
   "execution_count": 78,
   "id": "37f2df8a-f3dc-45b1-99ca-86d738255f34",
   "metadata": {},
   "outputs": [
    {
     "data": {
      "text/html": [
       "<div>\n",
       "<style scoped>\n",
       "    .dataframe tbody tr th:only-of-type {\n",
       "        vertical-align: middle;\n",
       "    }\n",
       "\n",
       "    .dataframe tbody tr th {\n",
       "        vertical-align: top;\n",
       "    }\n",
       "\n",
       "    .dataframe thead th {\n",
       "        text-align: right;\n",
       "    }\n",
       "</style>\n",
       "<table border=\"1\" class=\"dataframe\">\n",
       "  <thead>\n",
       "    <tr style=\"text-align: right;\">\n",
       "      <th></th>\n",
       "      <th>Report_date</th>\n",
       "      <th>storage_bcf</th>\n",
       "    </tr>\n",
       "  </thead>\n",
       "  <tbody>\n",
       "    <tr>\n",
       "      <th>0</th>\n",
       "      <td>2022-08-05</td>\n",
       "      <td>2501</td>\n",
       "    </tr>\n",
       "    <tr>\n",
       "      <th>1</th>\n",
       "      <td>2022-07-29</td>\n",
       "      <td>2457</td>\n",
       "    </tr>\n",
       "    <tr>\n",
       "      <th>2</th>\n",
       "      <td>2022-07-22</td>\n",
       "      <td>2416</td>\n",
       "    </tr>\n",
       "    <tr>\n",
       "      <th>3</th>\n",
       "      <td>2022-07-15</td>\n",
       "      <td>2401</td>\n",
       "    </tr>\n",
       "    <tr>\n",
       "      <th>4</th>\n",
       "      <td>2022-07-08</td>\n",
       "      <td>2369</td>\n",
       "    </tr>\n",
       "  </tbody>\n",
       "</table>\n",
       "</div>"
      ],
      "text/plain": [
       "  Report_date  storage_bcf\n",
       "0  2022-08-05         2501\n",
       "1  2022-07-29         2457\n",
       "2  2022-07-22         2416\n",
       "3  2022-07-15         2401\n",
       "4  2022-07-08         2369"
      ]
     },
     "execution_count": 78,
     "metadata": {},
     "output_type": "execute_result"
    }
   ],
   "source": [
    "del df_storage['index']\n",
    "df_storage.head()"
   ]
  },
  {
   "cell_type": "code",
   "execution_count": 79,
   "id": "ef6633b7-d603-4b28-971e-94dc37ed4475",
   "metadata": {},
   "outputs": [
    {
     "data": {
      "text/html": [
       "<div>\n",
       "<style scoped>\n",
       "    .dataframe tbody tr th:only-of-type {\n",
       "        vertical-align: middle;\n",
       "    }\n",
       "\n",
       "    .dataframe tbody tr th {\n",
       "        vertical-align: top;\n",
       "    }\n",
       "\n",
       "    .dataframe thead th {\n",
       "        text-align: right;\n",
       "    }\n",
       "</style>\n",
       "<table border=\"1\" class=\"dataframe\">\n",
       "  <thead>\n",
       "    <tr style=\"text-align: right;\">\n",
       "      <th></th>\n",
       "      <th>Date</th>\n",
       "      <th>Price</th>\n",
       "      <th>Open</th>\n",
       "      <th>High</th>\n",
       "      <th>Low</th>\n",
       "      <th>Vol.</th>\n",
       "      <th>Change %</th>\n",
       "    </tr>\n",
       "  </thead>\n",
       "  <tbody>\n",
       "    <tr>\n",
       "      <th>0</th>\n",
       "      <td>Aug 07, 2022</td>\n",
       "      <td>8.768</td>\n",
       "      <td>7.867</td>\n",
       "      <td>8.989</td>\n",
       "      <td>7.559</td>\n",
       "      <td>68.13K</td>\n",
       "      <td>8.73%</td>\n",
       "    </tr>\n",
       "    <tr>\n",
       "      <th>1</th>\n",
       "      <td>Jul 31, 2022</td>\n",
       "      <td>8.064</td>\n",
       "      <td>7.910</td>\n",
       "      <td>8.480</td>\n",
       "      <td>7.550</td>\n",
       "      <td>446.85K</td>\n",
       "      <td>-2.01%</td>\n",
       "    </tr>\n",
       "    <tr>\n",
       "      <th>2</th>\n",
       "      <td>Jul 24, 2022</td>\n",
       "      <td>8.229</td>\n",
       "      <td>8.390</td>\n",
       "      <td>9.752</td>\n",
       "      <td>8.010</td>\n",
       "      <td>240.26K</td>\n",
       "      <td>-0.84%</td>\n",
       "    </tr>\n",
       "    <tr>\n",
       "      <th>3</th>\n",
       "      <td>Jul 17, 2022</td>\n",
       "      <td>8.299</td>\n",
       "      <td>7.168</td>\n",
       "      <td>8.417</td>\n",
       "      <td>7.078</td>\n",
       "      <td>457.39K</td>\n",
       "      <td>18.29%</td>\n",
       "    </tr>\n",
       "    <tr>\n",
       "      <th>4</th>\n",
       "      <td>Jul 10, 2022</td>\n",
       "      <td>7.016</td>\n",
       "      <td>6.446</td>\n",
       "      <td>7.144</td>\n",
       "      <td>6.014</td>\n",
       "      <td>585.16K</td>\n",
       "      <td>16.27%</td>\n",
       "    </tr>\n",
       "  </tbody>\n",
       "</table>\n",
       "</div>"
      ],
      "text/plain": [
       "           Date  Price   Open   High    Low     Vol. Change %\n",
       "0  Aug 07, 2022  8.768  7.867  8.989  7.559   68.13K    8.73%\n",
       "1  Jul 31, 2022  8.064  7.910  8.480  7.550  446.85K   -2.01%\n",
       "2  Jul 24, 2022  8.229  8.390  9.752  8.010  240.26K   -0.84%\n",
       "3  Jul 17, 2022  8.299  7.168  8.417  7.078  457.39K   18.29%\n",
       "4  Jul 10, 2022  7.016  6.446  7.144  6.014  585.16K   16.27%"
      ]
     },
     "execution_count": 79,
     "metadata": {},
     "output_type": "execute_result"
    }
   ],
   "source": [
    "df_price[\"Vol.\"].str.replace(\"K\",\"\")\n",
    "df_price.head()"
   ]
  },
  {
   "cell_type": "code",
   "execution_count": 80,
   "id": "b2d4ec8b-057a-4101-bfc0-605f15d92a3c",
   "metadata": {},
   "outputs": [
    {
     "name": "stdout",
     "output_type": "stream",
     "text": [
      "<class 'pandas.core.frame.DataFrame'>\n",
      "RangeIndex: 658 entries, 0 to 657\n",
      "Data columns (total 7 columns):\n",
      " #   Column    Non-Null Count  Dtype  \n",
      "---  ------    --------------  -----  \n",
      " 0   Date      658 non-null    object \n",
      " 1   Price     658 non-null    float64\n",
      " 2   Open      658 non-null    float64\n",
      " 3   High      658 non-null    float64\n",
      " 4   Low       658 non-null    float64\n",
      " 5   Vol.      658 non-null    object \n",
      " 6   Change %  658 non-null    object \n",
      "dtypes: float64(4), object(3)\n",
      "memory usage: 36.1+ KB\n"
     ]
    }
   ],
   "source": [
    "df_price.info()"
   ]
  },
  {
   "cell_type": "code",
   "execution_count": 81,
   "id": "85fa457f-80db-4ffb-ad84-b6ee23fea6f2",
   "metadata": {},
   "outputs": [
    {
     "data": {
      "text/html": [
       "<div>\n",
       "<style scoped>\n",
       "    .dataframe tbody tr th:only-of-type {\n",
       "        vertical-align: middle;\n",
       "    }\n",
       "\n",
       "    .dataframe tbody tr th {\n",
       "        vertical-align: top;\n",
       "    }\n",
       "\n",
       "    .dataframe thead th {\n",
       "        text-align: right;\n",
       "    }\n",
       "</style>\n",
       "<table border=\"1\" class=\"dataframe\">\n",
       "  <thead>\n",
       "    <tr style=\"text-align: right;\">\n",
       "      <th></th>\n",
       "      <th>Date</th>\n",
       "      <th>Price</th>\n",
       "      <th>Open</th>\n",
       "      <th>High</th>\n",
       "      <th>Low</th>\n",
       "      <th>Vol.</th>\n",
       "      <th>Change %</th>\n",
       "    </tr>\n",
       "  </thead>\n",
       "  <tbody>\n",
       "    <tr>\n",
       "      <th>0</th>\n",
       "      <td>2022-08-07</td>\n",
       "      <td>8.768</td>\n",
       "      <td>7.867</td>\n",
       "      <td>8.989</td>\n",
       "      <td>7.559</td>\n",
       "      <td>68.13K</td>\n",
       "      <td>8.73%</td>\n",
       "    </tr>\n",
       "    <tr>\n",
       "      <th>1</th>\n",
       "      <td>2022-07-31</td>\n",
       "      <td>8.064</td>\n",
       "      <td>7.910</td>\n",
       "      <td>8.480</td>\n",
       "      <td>7.550</td>\n",
       "      <td>446.85K</td>\n",
       "      <td>-2.01%</td>\n",
       "    </tr>\n",
       "    <tr>\n",
       "      <th>2</th>\n",
       "      <td>2022-07-24</td>\n",
       "      <td>8.229</td>\n",
       "      <td>8.390</td>\n",
       "      <td>9.752</td>\n",
       "      <td>8.010</td>\n",
       "      <td>240.26K</td>\n",
       "      <td>-0.84%</td>\n",
       "    </tr>\n",
       "    <tr>\n",
       "      <th>3</th>\n",
       "      <td>2022-07-17</td>\n",
       "      <td>8.299</td>\n",
       "      <td>7.168</td>\n",
       "      <td>8.417</td>\n",
       "      <td>7.078</td>\n",
       "      <td>457.39K</td>\n",
       "      <td>18.29%</td>\n",
       "    </tr>\n",
       "    <tr>\n",
       "      <th>4</th>\n",
       "      <td>2022-07-10</td>\n",
       "      <td>7.016</td>\n",
       "      <td>6.446</td>\n",
       "      <td>7.144</td>\n",
       "      <td>6.014</td>\n",
       "      <td>585.16K</td>\n",
       "      <td>16.27%</td>\n",
       "    </tr>\n",
       "  </tbody>\n",
       "</table>\n",
       "</div>"
      ],
      "text/plain": [
       "        Date  Price   Open   High    Low     Vol. Change %\n",
       "0 2022-08-07  8.768  7.867  8.989  7.559   68.13K    8.73%\n",
       "1 2022-07-31  8.064  7.910  8.480  7.550  446.85K   -2.01%\n",
       "2 2022-07-24  8.229  8.390  9.752  8.010  240.26K   -0.84%\n",
       "3 2022-07-17  8.299  7.168  8.417  7.078  457.39K   18.29%\n",
       "4 2022-07-10  7.016  6.446  7.144  6.014  585.16K   16.27%"
      ]
     },
     "execution_count": 81,
     "metadata": {},
     "output_type": "execute_result"
    }
   ],
   "source": [
    "df_price['Date']= pd.to_datetime(df_price['Date'])\n",
    "df_price.head()"
   ]
  },
  {
   "cell_type": "code",
   "execution_count": 82,
   "id": "94bc2901-cdd9-4ea3-92e9-af1d03f722ab",
   "metadata": {},
   "outputs": [
    {
     "data": {
      "text/html": [
       "<div>\n",
       "<style scoped>\n",
       "    .dataframe tbody tr th:only-of-type {\n",
       "        vertical-align: middle;\n",
       "    }\n",
       "\n",
       "    .dataframe tbody tr th {\n",
       "        vertical-align: top;\n",
       "    }\n",
       "\n",
       "    .dataframe thead th {\n",
       "        text-align: right;\n",
       "    }\n",
       "</style>\n",
       "<table border=\"1\" class=\"dataframe\">\n",
       "  <thead>\n",
       "    <tr style=\"text-align: right;\">\n",
       "      <th></th>\n",
       "      <th>Date</th>\n",
       "      <th>Price</th>\n",
       "      <th>Open</th>\n",
       "      <th>High</th>\n",
       "      <th>Low</th>\n",
       "      <th>Vol.</th>\n",
       "      <th>Change %</th>\n",
       "      <th>Report_date</th>\n",
       "      <th>storage_bcf</th>\n",
       "    </tr>\n",
       "  </thead>\n",
       "  <tbody>\n",
       "    <tr>\n",
       "      <th>0</th>\n",
       "      <td>2010-01-03</td>\n",
       "      <td>5.749</td>\n",
       "      <td>5.705</td>\n",
       "      <td>6.108</td>\n",
       "      <td>5.615</td>\n",
       "      <td>555.23K</td>\n",
       "      <td>3.18%</td>\n",
       "      <td>2010-01-01</td>\n",
       "      <td>3117</td>\n",
       "    </tr>\n",
       "    <tr>\n",
       "      <th>1</th>\n",
       "      <td>2010-01-10</td>\n",
       "      <td>5.691</td>\n",
       "      <td>5.576</td>\n",
       "      <td>5.804</td>\n",
       "      <td>5.354</td>\n",
       "      <td>655.31K</td>\n",
       "      <td>-1.01%</td>\n",
       "      <td>2010-01-08</td>\n",
       "      <td>2850</td>\n",
       "    </tr>\n",
       "    <tr>\n",
       "      <th>2</th>\n",
       "      <td>2010-01-17</td>\n",
       "      <td>5.819</td>\n",
       "      <td>5.640</td>\n",
       "      <td>5.869</td>\n",
       "      <td>5.444</td>\n",
       "      <td>442.21K</td>\n",
       "      <td>2.25%</td>\n",
       "      <td>2010-01-15</td>\n",
       "      <td>2607</td>\n",
       "    </tr>\n",
       "    <tr>\n",
       "      <th>3</th>\n",
       "      <td>2010-01-24</td>\n",
       "      <td>5.131</td>\n",
       "      <td>5.821</td>\n",
       "      <td>5.854</td>\n",
       "      <td>5.060</td>\n",
       "      <td>356.89K</td>\n",
       "      <td>-11.82%</td>\n",
       "      <td>2010-01-22</td>\n",
       "      <td>2521</td>\n",
       "    </tr>\n",
       "    <tr>\n",
       "      <th>4</th>\n",
       "      <td>2010-01-31</td>\n",
       "      <td>5.515</td>\n",
       "      <td>5.247</td>\n",
       "      <td>5.598</td>\n",
       "      <td>5.227</td>\n",
       "      <td>589.69K</td>\n",
       "      <td>7.48%</td>\n",
       "      <td>2010-01-29</td>\n",
       "      <td>2406</td>\n",
       "    </tr>\n",
       "  </tbody>\n",
       "</table>\n",
       "</div>"
      ],
      "text/plain": [
       "        Date  Price   Open   High    Low     Vol. Change % Report_date  \\\n",
       "0 2010-01-03  5.749  5.705  6.108  5.615  555.23K    3.18%  2010-01-01   \n",
       "1 2010-01-10  5.691  5.576  5.804  5.354  655.31K   -1.01%  2010-01-08   \n",
       "2 2010-01-17  5.819  5.640  5.869  5.444  442.21K    2.25%  2010-01-15   \n",
       "3 2010-01-24  5.131  5.821  5.854  5.060  356.89K  -11.82%  2010-01-22   \n",
       "4 2010-01-31  5.515  5.247  5.598  5.227  589.69K    7.48%  2010-01-29   \n",
       "\n",
       "   storage_bcf  \n",
       "0         3117  \n",
       "1         2850  \n",
       "2         2607  \n",
       "3         2521  \n",
       "4         2406  "
      ]
     },
     "execution_count": 82,
     "metadata": {},
     "output_type": "execute_result"
    }
   ],
   "source": [
    "df = pd.merge_asof(df_price.sort_values('Date'), df_storage.sort_values('Report_date'), left_on=['Date'], right_on=['Report_date'], direction=\"nearest\")\n",
    "df.head()"
   ]
  },
  {
   "cell_type": "code",
   "execution_count": 83,
   "id": "2b7b9a11-6840-4aee-a2ac-a6ac2c0d3d95",
   "metadata": {},
   "outputs": [
    {
     "data": {
      "text/html": [
       "<div>\n",
       "<style scoped>\n",
       "    .dataframe tbody tr th:only-of-type {\n",
       "        vertical-align: middle;\n",
       "    }\n",
       "\n",
       "    .dataframe tbody tr th {\n",
       "        vertical-align: top;\n",
       "    }\n",
       "\n",
       "    .dataframe thead th {\n",
       "        text-align: right;\n",
       "    }\n",
       "</style>\n",
       "<table border=\"1\" class=\"dataframe\">\n",
       "  <thead>\n",
       "    <tr style=\"text-align: right;\">\n",
       "      <th></th>\n",
       "      <th>Date</th>\n",
       "      <th>Price</th>\n",
       "      <th>Vol.</th>\n",
       "      <th>storage_bcf</th>\n",
       "    </tr>\n",
       "  </thead>\n",
       "  <tbody>\n",
       "    <tr>\n",
       "      <th>0</th>\n",
       "      <td>2010-01-03</td>\n",
       "      <td>5.749</td>\n",
       "      <td>555.23K</td>\n",
       "      <td>3117</td>\n",
       "    </tr>\n",
       "    <tr>\n",
       "      <th>1</th>\n",
       "      <td>2010-01-10</td>\n",
       "      <td>5.691</td>\n",
       "      <td>655.31K</td>\n",
       "      <td>2850</td>\n",
       "    </tr>\n",
       "    <tr>\n",
       "      <th>2</th>\n",
       "      <td>2010-01-17</td>\n",
       "      <td>5.819</td>\n",
       "      <td>442.21K</td>\n",
       "      <td>2607</td>\n",
       "    </tr>\n",
       "    <tr>\n",
       "      <th>3</th>\n",
       "      <td>2010-01-24</td>\n",
       "      <td>5.131</td>\n",
       "      <td>356.89K</td>\n",
       "      <td>2521</td>\n",
       "    </tr>\n",
       "    <tr>\n",
       "      <th>4</th>\n",
       "      <td>2010-01-31</td>\n",
       "      <td>5.515</td>\n",
       "      <td>589.69K</td>\n",
       "      <td>2406</td>\n",
       "    </tr>\n",
       "  </tbody>\n",
       "</table>\n",
       "</div>"
      ],
      "text/plain": [
       "        Date  Price     Vol.  storage_bcf\n",
       "0 2010-01-03  5.749  555.23K         3117\n",
       "1 2010-01-10  5.691  655.31K         2850\n",
       "2 2010-01-17  5.819  442.21K         2607\n",
       "3 2010-01-24  5.131  356.89K         2521\n",
       "4 2010-01-31  5.515  589.69K         2406"
      ]
     },
     "execution_count": 83,
     "metadata": {},
     "output_type": "execute_result"
    }
   ],
   "source": [
    "new_df = df.drop(['Open','High','Low','Change %','Report_date'], axis=1)\n",
    "new_df.head()\n"
   ]
  },
  {
   "cell_type": "code",
   "execution_count": 84,
   "id": "026d5393-14c3-45cc-bd47-63217c04188e",
   "metadata": {},
   "outputs": [
    {
     "data": {
      "text/plain": [
       "array(['555.23K', '655.31K', '442.21K', '356.89K', '589.69K', '712.42K',\n",
       "       '447.38K', '315.40K', '408.90K', '393.62K', '516.36K', '388.22K',\n",
       "       '315.92K', '619.35K', '770.09K', '536.66K', '470.22K', '420.55K',\n",
       "       '633.73K', '528.86K', '317.92K', '548.14K', '664.17K', '634.48K',\n",
       "       '476.74K', '440.13K', '407.32K', '570.49K', '555.04K', '385.08K',\n",
       "       '602.09K', '673.24K', '486.58K', '304.71K', '507.82K', '435.35K',\n",
       "       '756.22K', '551.07K', '339.62K', '583.44K', '750.82K', '540.80K',\n",
       "       '458.74K', '590.74K', '733.98K', '685.69K', '250.16K', '574.99K',\n",
       "       '855.06K', '746.51K', '368.56K', '309.24K', '722.67K', '676.17K',\n",
       "       '594.66K', '380.60K', '615.63K', '920.48K', '564.90K', '298.86K',\n",
       "       '537.71K', '687.34K', '764.80K', '568.98K', '532.27K', '721.82K',\n",
       "       '770.56K', '528.30K', '505.93K', '673.03K', '559.58K', '550.47K',\n",
       "       '458.15K', '588.31K', '795.10K', '603.86K', '537.65K', '395.77K',\n",
       "       '471.34K', '614.61K', '574.43K', '367.02K', '573.43K', '668.46K',\n",
       "       '554.88K', '501.80K', '523.73K', '511.49K', '729.49K', '509.61K',\n",
       "       '438.43K', '629.92K', '883.35K', '699.15K', '439.47K', '580.80K',\n",
       "       '545.98K', '717.66K', '377.93K', '532.50K', '721.16K', '663.69K',\n",
       "       '435.00K', '217.92K', '518.35K', '686.18K', '620.01K', '921.34K',\n",
       "       '970.96K', '966.45K', '926.17K', '447.81K', '546.17K', '567.45K',\n",
       "       '624.78K', '582.73K', '439.74K', '506.05K', '819.89K', '556.26K',\n",
       "       '405.69K', '777.17K', '756.38K', '760.34K', '676.18K', '511.92K',\n",
       "       '757.88K', '864.62K', '799.28K', '525.77K', '519.35K', '691.62K',\n",
       "       '739.28K', '429.79K', '828.02K', '941.11K', '709.33K', '714.89K',\n",
       "       '453.92K', '550.43K', '938.00K', '748.86K', '568.59K', '942.48K',\n",
       "       '992.94K', '825.44K', '592.36K', '430.61K', '500.76K', '674.14K',\n",
       "       '397.93K', '488.04K', '734.81K', '934.12K', '616.85K', '151.17K',\n",
       "       '399.50K', '623.25K', '752.46K', '502.97K', '538.14K', '691.75K',\n",
       "       '863.98K', '503.44K', '537.95K', '683.31K', '763.29K', '727.44K',\n",
       "       '460.79K', '946.87K', '1.04M', '771.99K', '430.15K', '795.72K',\n",
       "       '577.65K', '612.51K', '518.82K', '346.81K', '589.54K', '757.17K',\n",
       "       '651.15K', '448.10K', '353.38K', '547.17K', '599.36K', '474.31K',\n",
       "       '415.48K', '716.56K', '762.22K', '536.47K', '374.40K', '471.05K',\n",
       "       '583.32K', '583.46K', '305.98K', '556.66K', '863.20K', '616.47K',\n",
       "       '531.80K', '400.04K', '602.60K', '550.02K', '525.92K', '284.08K',\n",
       "       '830.81K', '754.85K', '174.68K', '426.82K', '731.77K', '876.67K',\n",
       "       '796.26K', '711.73K', '972.94K', '1.01M', '742.90K', '460.53K',\n",
       "       '615.98K', '538.10K', '409.45K', '255.18K', '502.70K', '690.88K',\n",
       "       '413.28K', '355.95K', '358.64K', '515.72K', '489.11K', '422.62K',\n",
       "       '299.95K', '502.56K', '736.76K', '508.34K', '253.63K', '336.83K',\n",
       "       '507.60K', '438.67K', '367.27K', '353.13K', '498.34K', '619.01K',\n",
       "       '460.17K', '307.18K', '451.51K', '612.96K', '569.11K', '309.01K',\n",
       "       '604.64K', '645.08K', '533.04K', '477.98K', '994.01K', '813.03K',\n",
       "       '884.29K', '318.76K', '763.66K', '739.70K', '585.05K', '333.52K',\n",
       "       '308.02K', '643.08K', '873.01K', '602.22K', '413.86K', '597.79K',\n",
       "       '917.74K', '556.55K', '417.23K', '560.46K', '648.43K', '682.05K',\n",
       "       '316.76K', '392.07K', '599.72K', '706.21K', '478.68K', '536.09K',\n",
       "       '632.32K', '702.23K', '615.66K', '365.03K', '697.22K', '976.55K',\n",
       "       '759.14K', '323.49K', '519.77K', '645.73K', '720.63K', '587.84K',\n",
       "       '370.90K', '786.59K', '817.55K', '569.17K', '276.18K', '525.04K',\n",
       "       '560.76K', '568.74K', '433.20K', '536.65K', '717.82K', '730.11K',\n",
       "       '646.47K', '563.18K', '732.64K', '783.19K', '670.32K', '220.00K',\n",
       "       '595.44K', '869.33K', '834.50K', '444.63K', '357.82K', '803.81K',\n",
       "       '702.73K', '492.90K', '483.73K', '833.34K', '754.55K', '499.44K',\n",
       "       '316.15K', '734.77K', '785.71K', '655.55K', '442.20K', '481.94K',\n",
       "       '796.62K', '783.12K', '801.12K', '545.11K', '694.99K', '716.09K',\n",
       "       '650.92K', '379.96K', '695.67K', '929.03K', '707.08K', '613.59K',\n",
       "       '480.98K', '549.39K', '675.00K', '537.10K', '479.89K', '685.37K',\n",
       "       '901.13K', '592.55K', '501.62K', '530.28K', '628.43K', '781.87K',\n",
       "       '634.31K', '398.20K', '928.92K', '998.11K', '734.68K', '516.00K',\n",
       "       '868.53K', '910.89K', '689.77K', '327.01K', '724.99K', '1.11M',\n",
       "       '860.33K', '631.53K', '306.42K', '774.17K', '844.83K', '550.91K',\n",
       "       '334.62K', '798.82K', '811.18K', '697.01K', '342.57K', '794.56K',\n",
       "       '924.68K', '694.59K', '647.49K', '368.86K', '859.48K', '699.41K',\n",
       "       '685.48K', '400.70K', '650.53K', '940.29K', '789.88K', '362.02K',\n",
       "       '807.23K', '812.17K', '868.38K', '660.93K', '431.25K', '686.11K',\n",
       "       '872.50K', '685.57K', '318.61K', '664.98K', '863.13K', '611.26K',\n",
       "       '586.45K', '572.78K', '659.72K', '952.47K', '920.66K', '454.36K',\n",
       "       '970.30K', '1.09M', '407.58K', '837.10K', '1.15M', '999.45K',\n",
       "       '528.04K', '830.64K', '1.28M', '1.16M', '880.13K', '686.35K',\n",
       "       '1.14M', '1.59M', '1.13M', '866.69K', '1.03M', '850.84K',\n",
       "       '400.49K', '614.12K', '674.65K', '682.91K', '537.68K', '307.79K',\n",
       "       '712.99K', '966.86K', '735.77K', '370.60K', '696.87K', '793.36K',\n",
       "       '637.38K', '563.37K', '397.98K', '700.04K', '824.28K', '686.53K',\n",
       "       '377.74K', '522.07K', '614.05K', '557.39K', '285.13K', '724.08K',\n",
       "       '767.03K', '587.93K', '540.33K', '349.81K', '609.19K', '747.83K',\n",
       "       '872.51K', '573.47K', '1.20M', '774.91K', '592.74K', '654.59K',\n",
       "       '1.68M', '822.28K', '508.21K', '770.27K', '920.61K', '679.47K',\n",
       "       '228.95K', '546.91K', '652.08K', '919.27K', '465.94K', '405.42K',\n",
       "       '656.74K', '757.10K', '394.91K', '441.53K', '529.22K', '496.11K',\n",
       "       '502.57K', '290.09K', '576.79K', '648.24K', '553.95K', '333.69K',\n",
       "       '502.81K', '633.85K', '525.14K', '604.20K', '422.13K', '779.62K',\n",
       "       '354.41K', '574.82K', '983.92K', '717.19K', '485.48K', '779.94K',\n",
       "       '887.93K', '813.90K', '640.85K', '449.79K', '871.52K', '865.47K',\n",
       "       '375.13K', '1.05M', '1.07M', '850.65K', '786.68K', '765.38K',\n",
       "       '754.46K', '471.57K', '1.24M', '896.69K', '240.08K', '550.45K',\n",
       "       '817.71K', '496.89K', '1.00M', '1.39M', '647.95K', '909.84K',\n",
       "       '1.46M', '897.77K', '327.82K', '709.01K', '879.46K', '979.94K',\n",
       "       '847.55K', '581.24K', '1.18M', '1.08M', '777.86K', '430.01K',\n",
       "       '870.36K', '979.47K', '757.90K', '319.78K', '775.92K', '986.28K',\n",
       "       '638.75K', '609.76K', '352.03K', '953.14K', '679.99K', '338.30K',\n",
       "       '687.84K', '770.01K', '560.34K', '665.35K', '961.83K', '839.48K',\n",
       "       '591.07K', '413.46K', '846.93K', '677.80K', '660.69K', '180.17K',\n",
       "       '838.82K', '992.62K', '685.43K', '355.71K', '245.45K', '707.11K',\n",
       "       '861.96K', '508.90K', '373.73K', '1.10M', '746.28K', '349.13K',\n",
       "       '534.30K', '545.35K', '545.15K', '320.26K', '199.42K', '684.22K',\n",
       "       '669.80K', '478.42K', '303.52K', '479.98K', '470.41K', '541.81K',\n",
       "       '320.02K', '526.95K', '825.19K', '633.81K', '344.00K', '660.21K',\n",
       "       '541.08K', '576.04K', '530.53K', '380.58K', '652.78K', '809.41K',\n",
       "       '558.68K', '263.64K', '843.47K', '794.29K', '581.38K', '717.25K',\n",
       "       '956.68K', '642.72K', '427.41K', '738.89K', '800.40K', '625.50K',\n",
       "       '190.74K', '786.50K', '760.95K', '614.20K', '425.87K', '297.14K',\n",
       "       '572.87K', '847.22K', '410.45K', '385.46K', '961.39K', '821.02K',\n",
       "       '609.65K', '208.22K', '623.96K', '551.47K', '402.54K', '386.45K',\n",
       "       '492.26K', '849.97K', '836.97K', '811.90K', '325.36K', '725.03K',\n",
       "       '701.11K', '426.94K', '243.16K', '431.69K', '898.52K', '806.05K',\n",
       "       '317.09K', '418.68K', '585.16K', '457.39K', '240.26K', '446.85K',\n",
       "       '68.13K'], dtype=object)"
      ]
     },
     "execution_count": 84,
     "metadata": {},
     "output_type": "execute_result"
    }
   ],
   "source": [
    "new_df[\"Vol.\"].unique()"
   ]
  },
  {
   "cell_type": "code",
   "execution_count": 85,
   "id": "1e4eb581-f964-443a-8075-89a53e30928b",
   "metadata": {},
   "outputs": [
    {
     "data": {
      "text/html": [
       "<div>\n",
       "<style scoped>\n",
       "    .dataframe tbody tr th:only-of-type {\n",
       "        vertical-align: middle;\n",
       "    }\n",
       "\n",
       "    .dataframe tbody tr th {\n",
       "        vertical-align: top;\n",
       "    }\n",
       "\n",
       "    .dataframe thead th {\n",
       "        text-align: right;\n",
       "    }\n",
       "</style>\n",
       "<table border=\"1\" class=\"dataframe\">\n",
       "  <thead>\n",
       "    <tr style=\"text-align: right;\">\n",
       "      <th></th>\n",
       "      <th>Date</th>\n",
       "      <th>Price</th>\n",
       "      <th>Volume</th>\n",
       "      <th>storage_bcf</th>\n",
       "    </tr>\n",
       "  </thead>\n",
       "  <tbody>\n",
       "    <tr>\n",
       "      <th>0</th>\n",
       "      <td>2010-01-03</td>\n",
       "      <td>5.749</td>\n",
       "      <td>555.23K</td>\n",
       "      <td>3117</td>\n",
       "    </tr>\n",
       "    <tr>\n",
       "      <th>1</th>\n",
       "      <td>2010-01-10</td>\n",
       "      <td>5.691</td>\n",
       "      <td>655.31K</td>\n",
       "      <td>2850</td>\n",
       "    </tr>\n",
       "    <tr>\n",
       "      <th>2</th>\n",
       "      <td>2010-01-17</td>\n",
       "      <td>5.819</td>\n",
       "      <td>442.21K</td>\n",
       "      <td>2607</td>\n",
       "    </tr>\n",
       "    <tr>\n",
       "      <th>3</th>\n",
       "      <td>2010-01-24</td>\n",
       "      <td>5.131</td>\n",
       "      <td>356.89K</td>\n",
       "      <td>2521</td>\n",
       "    </tr>\n",
       "    <tr>\n",
       "      <th>4</th>\n",
       "      <td>2010-01-31</td>\n",
       "      <td>5.515</td>\n",
       "      <td>589.69K</td>\n",
       "      <td>2406</td>\n",
       "    </tr>\n",
       "  </tbody>\n",
       "</table>\n",
       "</div>"
      ],
      "text/plain": [
       "        Date  Price   Volume  storage_bcf\n",
       "0 2010-01-03  5.749  555.23K         3117\n",
       "1 2010-01-10  5.691  655.31K         2850\n",
       "2 2010-01-17  5.819  442.21K         2607\n",
       "3 2010-01-24  5.131  356.89K         2521\n",
       "4 2010-01-31  5.515  589.69K         2406"
      ]
     },
     "execution_count": 85,
     "metadata": {},
     "output_type": "execute_result"
    }
   ],
   "source": [
    "new_df.rename(columns = {'Vol.':'Volume'}, inplace = True)\n",
    "new_df.head()"
   ]
  },
  {
   "cell_type": "code",
   "execution_count": 86,
   "id": "98f7266b-a608-45f7-baeb-0fd8bae2ea84",
   "metadata": {},
   "outputs": [],
   "source": [
    "new_df.Volume = (new_df.Volume.replace(r'[KM]+$', '', regex=True).astype(float) * \\\n",
    "                 new_df.Volume.str.extract(r'[\\d\\.]+([KM]+)', expand=False).fillna(1).replace(['K','M'], [10**3, 10**6]).astype(int))\n",
    "#replacing K with 10*3 and M with 10*6"
   ]
  },
  {
   "cell_type": "code",
   "execution_count": 87,
   "id": "725e7526-c8ec-43ec-b4bb-051b2e625664",
   "metadata": {},
   "outputs": [
    {
     "name": "stdout",
     "output_type": "stream",
     "text": [
      "                Price    Volume  storage_bcf\n",
      "Price        1.000000 -0.193638    -0.197227\n",
      "Volume      -0.193638  1.000000     0.172358\n",
      "storage_bcf -0.197227  0.172358     1.000000\n"
     ]
    }
   ],
   "source": [
    "print(new_df.corr())"
   ]
  },
  {
   "cell_type": "code",
   "execution_count": 88,
   "id": "c90ebf6d-ba0e-4c54-b3a5-c6008a96e33d",
   "metadata": {},
   "outputs": [
    {
     "data": {
      "text/plain": [
       "Text(0.5, 1.0, 'Price')"
      ]
     },
     "execution_count": 88,
     "metadata": {},
     "output_type": "execute_result"
    },
    {
     "data": {
      "image/png": "[encoded data removed]",
      "text/plain": [
       "<Figure size 1080x648 with 2 Axes>"
      ]
     },
     "metadata": {},
     "output_type": "display_data"
    }
   ],
   "source": [
    "heatmap = sns.heatmap(new_df.corr(),vmin=-1, vmax=1, annot=True, cmap='BrBG')\n",
    "heatmap.set_title('Price', fontdict={'fontsize':12}, pad=12)"
   ]
  },
  {
   "cell_type": "code",
   "execution_count": 89,
   "id": "1df28564-2f99-4c60-8347-25504163ee47",
   "metadata": {},
   "outputs": [],
   "source": [
    "import statsmodels.api as sm\n",
    "y = new_df['Price']\n",
    "X = new_df[['storage_bcf', 'Volume']]\n",
    "X = sm.add_constant(X)"
   ]
  },
  {
   "cell_type": "code",
   "execution_count": 90,
   "id": "2bce0513-59d2-4a30-85ac-58e28ae7d980",
   "metadata": {},
   "outputs": [],
   "source": [
    "from sklearn.model_selection import train_test_split\n",
    "X_train, X_test, y_train, y_test = train_test_split(X, y, test_size=0.33, random_state=42)"
   ]
  },
  {
   "cell_type": "code",
   "execution_count": 91,
   "id": "7754ab5f-23d7-4050-b4e2-d75aacf90879",
   "metadata": {},
   "outputs": [],
   "source": [
    "model = sm.OLS(y_train,X_train)\n",
    "results = model.fit()"
   ]
  },
  {
   "cell_type": "code",
   "execution_count": 92,
   "id": "d4e51fcd-7643-4f48-a037-ceb67b2a6218",
   "metadata": {},
   "outputs": [
    {
     "data": {
      "text/html": [
       "<table class=\"simpletable\">\n",
       "<caption>OLS Regression Results</caption>\n",
       "<tr>\n",
       "  <th>Dep. Variable:</th>          <td>Price</td>      <th>  R-squared:         </th> <td>   0.055</td>\n",
       "</tr>\n",
       "<tr>\n",
       "  <th>Model:</th>                   <td>OLS</td>       <th>  Adj. R-squared:    </th> <td>   0.051</td>\n",
       "</tr>\n",
       "<tr>\n",
       "  <th>Method:</th>             <td>Least Squares</td>  <th>  F-statistic:       </th> <td>   12.69</td>\n",
       "</tr>\n",
       "<tr>\n",
       "  <th>Date:</th>             <td>Thu, 18 Aug 2022</td> <th>  Prob (F-statistic):</th> <td>4.41e-06</td>\n",
       "</tr>\n",
       "<tr>\n",
       "  <th>Time:</th>                 <td>12:38:53</td>     <th>  Log-Likelihood:    </th> <td> -649.84</td>\n",
       "</tr>\n",
       "<tr>\n",
       "  <th>No. Observations:</th>      <td>   440</td>      <th>  AIC:               </th> <td>   1306.</td>\n",
       "</tr>\n",
       "<tr>\n",
       "  <th>Df Residuals:</th>          <td>   437</td>      <th>  BIC:               </th> <td>   1318.</td>\n",
       "</tr>\n",
       "<tr>\n",
       "  <th>Df Model:</th>              <td>     2</td>      <th>                     </th>     <td> </td>   \n",
       "</tr>\n",
       "<tr>\n",
       "  <th>Covariance Type:</th>      <td>nonrobust</td>    <th>                     </th>     <td> </td>   \n",
       "</tr>\n",
       "</table>\n",
       "<table class=\"simpletable\">\n",
       "<tr>\n",
       "       <td></td>          <th>coef</th>     <th>std err</th>      <th>t</th>      <th>P>|t|</th>  <th>[0.025</th>    <th>0.975]</th>  \n",
       "</tr>\n",
       "<tr>\n",
       "  <th>const</th>       <td>    4.4255</td> <td>    0.217</td> <td>   20.378</td> <td> 0.000</td> <td>    3.999</td> <td>    4.852</td>\n",
       "</tr>\n",
       "<tr>\n",
       "  <th>storage_bcf</th> <td>   -0.0003</td> <td> 6.69e-05</td> <td>   -3.873</td> <td> 0.000</td> <td>   -0.000</td> <td>   -0.000</td>\n",
       "</tr>\n",
       "<tr>\n",
       "  <th>Volume</th>      <td>-5.663e-07</td> <td> 2.18e-07</td> <td>   -2.596</td> <td> 0.010</td> <td>-9.95e-07</td> <td>-1.38e-07</td>\n",
       "</tr>\n",
       "</table>\n",
       "<table class=\"simpletable\">\n",
       "<tr>\n",
       "  <th>Omnibus:</th>       <td>141.701</td> <th>  Durbin-Watson:     </th> <td>   1.938</td> \n",
       "</tr>\n",
       "<tr>\n",
       "  <th>Prob(Omnibus):</th> <td> 0.000</td>  <th>  Jarque-Bera (JB):  </th> <td> 486.849</td> \n",
       "</tr>\n",
       "<tr>\n",
       "  <th>Skew:</th>          <td> 1.453</td>  <th>  Prob(JB):          </th> <td>1.91e-106</td>\n",
       "</tr>\n",
       "<tr>\n",
       "  <th>Kurtosis:</th>      <td> 7.255</td>  <th>  Cond. No.          </th> <td>2.89e+06</td> \n",
       "</tr>\n",
       "</table><br/><br/>Notes:<br/>[1] Standard Errors assume that the covariance matrix of the errors is correctly specified.<br/>[2] The condition number is large, 2.89e+06. This might indicate that there are<br/>strong multicollinearity or other numerical problems."
      ],
      "text/plain": [
       "<class 'statsmodels.iolib.summary.Summary'>\n",
       "\"\"\"\n",
       "                            OLS Regression Results                            \n",
       "==============================================================================\n",
       "Dep. Variable:                  Price   R-squared:                       0.055\n",
       "Model:                            OLS   Adj. R-squared:                  0.051\n",
       "Method:                 Least Squares   F-statistic:                     12.69\n",
       "Date:                Thu, 18 Aug 2022   Prob (F-statistic):           4.41e-06\n",
       "Time:                        12:38:53   Log-Likelihood:                -649.84\n",
       "No. Observations:                 440   AIC:                             1306.\n",
       "Df Residuals:                     437   BIC:                             1318.\n",
       "Df Model:                           2                                         \n",
       "Covariance Type:            nonrobust                                         \n",
       "===============================================================================\n",
       "                  coef    std err          t      P>|t|      [0.025      0.975]\n",
       "-------------------------------------------------------------------------------\n",
       "const           4.4255      0.217     20.378      0.000       3.999       4.852\n",
       "storage_bcf    -0.0003   6.69e-05     -3.873      0.000      -0.000      -0.000\n",
       "Volume      -5.663e-07   2.18e-07     -2.596      0.010   -9.95e-07   -1.38e-07\n",
       "==============================================================================\n",
       "Omnibus:                      141.701   Durbin-Watson:                   1.938\n",
       "Prob(Omnibus):                  0.000   Jarque-Bera (JB):              486.849\n",
       "Skew:                           1.453   Prob(JB):                    1.91e-106\n",
       "Kurtosis:                       7.255   Cond. No.                     2.89e+06\n",
       "==============================================================================\n",
       "\n",
       "Notes:\n",
       "[1] Standard Errors assume that the covariance matrix of the errors is correctly specified.\n",
       "[2] The condition number is large, 2.89e+06. This might indicate that there are\n",
       "strong multicollinearity or other numerical problems.\n",
       "\"\"\""
      ]
     },
     "execution_count": 92,
     "metadata": {},
     "output_type": "execute_result"
    }
   ],
   "source": [
    "results.summary()"
   ]
  },
  {
   "cell_type": "code",
   "execution_count": 93,
   "id": "4b6bc755-9d8b-45be-82fe-8a56a4ecd903",
   "metadata": {},
   "outputs": [],
   "source": [
    "model = sm.OLS(y_test,X_test)\n",
    "results = model.fit()"
   ]
  },
  {
   "cell_type": "code",
   "execution_count": 94,
   "id": "8cdf955a-96bf-4fc9-9045-48b88a1177e1",
   "metadata": {},
   "outputs": [
    {
     "data": {
      "text/html": [
       "<table class=\"simpletable\">\n",
       "<caption>OLS Regression Results</caption>\n",
       "<tr>\n",
       "  <th>Dep. Variable:</th>          <td>Price</td>      <th>  R-squared:         </th> <td>   0.100</td>\n",
       "</tr>\n",
       "<tr>\n",
       "  <th>Model:</th>                   <td>OLS</td>       <th>  Adj. R-squared:    </th> <td>   0.092</td>\n",
       "</tr>\n",
       "<tr>\n",
       "  <th>Method:</th>             <td>Least Squares</td>  <th>  F-statistic:       </th> <td>   11.99</td>\n",
       "</tr>\n",
       "<tr>\n",
       "  <th>Date:</th>             <td>Thu, 18 Aug 2022</td> <th>  Prob (F-statistic):</th> <td>1.15e-05</td>\n",
       "</tr>\n",
       "<tr>\n",
       "  <th>Time:</th>                 <td>12:38:53</td>     <th>  Log-Likelihood:    </th> <td> -346.72</td>\n",
       "</tr>\n",
       "<tr>\n",
       "  <th>No. Observations:</th>      <td>   218</td>      <th>  AIC:               </th> <td>   699.4</td>\n",
       "</tr>\n",
       "<tr>\n",
       "  <th>Df Residuals:</th>          <td>   215</td>      <th>  BIC:               </th> <td>   709.6</td>\n",
       "</tr>\n",
       "<tr>\n",
       "  <th>Df Model:</th>              <td>     2</td>      <th>                     </th>     <td> </td>   \n",
       "</tr>\n",
       "<tr>\n",
       "  <th>Covariance Type:</th>      <td>nonrobust</td>    <th>                     </th>     <td> </td>   \n",
       "</tr>\n",
       "</table>\n",
       "<table class=\"simpletable\">\n",
       "<tr>\n",
       "       <td></td>          <th>coef</th>     <th>std err</th>      <th>t</th>      <th>P>|t|</th>  <th>[0.025</th>    <th>0.975]</th>  \n",
       "</tr>\n",
       "<tr>\n",
       "  <th>const</th>       <td>    5.0532</td> <td>    0.358</td> <td>   14.120</td> <td> 0.000</td> <td>    4.348</td> <td>    5.759</td>\n",
       "</tr>\n",
       "<tr>\n",
       "  <th>storage_bcf</th> <td>   -0.0002</td> <td>    0.000</td> <td>   -2.010</td> <td> 0.046</td> <td>   -0.000</td> <td>-4.34e-06</td>\n",
       "</tr>\n",
       "<tr>\n",
       "  <th>Volume</th>      <td>-1.569e-06</td> <td> 4.02e-07</td> <td>   -3.904</td> <td> 0.000</td> <td>-2.36e-06</td> <td>-7.77e-07</td>\n",
       "</tr>\n",
       "</table>\n",
       "<table class=\"simpletable\">\n",
       "<tr>\n",
       "  <th>Omnibus:</th>       <td>60.955</td> <th>  Durbin-Watson:     </th> <td>   2.038</td>\n",
       "</tr>\n",
       "<tr>\n",
       "  <th>Prob(Omnibus):</th> <td> 0.000</td> <th>  Jarque-Bera (JB):  </th> <td> 133.289</td>\n",
       "</tr>\n",
       "<tr>\n",
       "  <th>Skew:</th>          <td> 1.315</td> <th>  Prob(JB):          </th> <td>1.14e-29</td>\n",
       "</tr>\n",
       "<tr>\n",
       "  <th>Kurtosis:</th>      <td> 5.786</td> <th>  Cond. No.          </th> <td>2.99e+06</td>\n",
       "</tr>\n",
       "</table><br/><br/>Notes:<br/>[1] Standard Errors assume that the covariance matrix of the errors is correctly specified.<br/>[2] The condition number is large, 2.99e+06. This might indicate that there are<br/>strong multicollinearity or other numerical problems."
      ],
      "text/plain": [
       "<class 'statsmodels.iolib.summary.Summary'>\n",
       "\"\"\"\n",
       "                            OLS Regression Results                            \n",
       "==============================================================================\n",
       "Dep. Variable:                  Price   R-squared:                       0.100\n",
       "Model:                            OLS   Adj. R-squared:                  0.092\n",
       "Method:                 Least Squares   F-statistic:                     11.99\n",
       "Date:                Thu, 18 Aug 2022   Prob (F-statistic):           1.15e-05\n",
       "Time:                        12:38:53   Log-Likelihood:                -346.72\n",
       "No. Observations:                 218   AIC:                             699.4\n",
       "Df Residuals:                     215   BIC:                             709.6\n",
       "Df Model:                           2                                         \n",
       "Covariance Type:            nonrobust                                         \n",
       "===============================================================================\n",
       "                  coef    std err          t      P>|t|      [0.025      0.975]\n",
       "-------------------------------------------------------------------------------\n",
       "const           5.0532      0.358     14.120      0.000       4.348       5.759\n",
       "storage_bcf    -0.0002      0.000     -2.010      0.046      -0.000   -4.34e-06\n",
       "Volume      -1.569e-06   4.02e-07     -3.904      0.000   -2.36e-06   -7.77e-07\n",
       "==============================================================================\n",
       "Omnibus:                       60.955   Durbin-Watson:                   2.038\n",
       "Prob(Omnibus):                  0.000   Jarque-Bera (JB):              133.289\n",
       "Skew:                           1.315   Prob(JB):                     1.14e-29\n",
       "Kurtosis:                       5.786   Cond. No.                     2.99e+06\n",
       "==============================================================================\n",
       "\n",
       "Notes:\n",
       "[1] Standard Errors assume that the covariance matrix of the errors is correctly specified.\n",
       "[2] The condition number is large, 2.99e+06. This might indicate that there are\n",
       "strong multicollinearity or other numerical problems.\n",
       "\"\"\""
      ]
     },
     "execution_count": 94,
     "metadata": {},
     "output_type": "execute_result"
    }
   ],
   "source": [
    "results.summary()"
   ]
  },
  {
   "cell_type": "code",
   "execution_count": 95,
   "id": "fd02d707-f5d1-468a-9766-5be42bacd1d3",
   "metadata": {
    "jupyter": {
     "source_hidden": true
    },
    "tags": []
   },
   "outputs": [],
   "source": [
    "def mae(y, pred): \n",
    "    return round(np.mean(np.abs(y - pred)), 2)"
   ]
  },
  {
   "cell_type": "code",
   "execution_count": 96,
   "id": "3f3ca768-4ad7-4c68-ba01-74dc6b56924d",
   "metadata": {},
   "outputs": [
    {
     "name": "stdout",
     "output_type": "stream",
     "text": [
      "Naïve Training MAE: 0.84\n",
      "Training MAE: 0.81\n"
     ]
    }
   ],
   "source": [
    "pred_train = results.predict(X_train)\n",
    "\n",
    "print('Naïve Training MAE:', mae(y_train, np.mean(pred_train))) #naive mae\n",
    "print('Training MAE:', mae(y_train, pred_train))"
   ]
  },
  {
   "cell_type": "code",
   "execution_count": 97,
   "id": "13db3461-eea2-4121-b07a-ef607263454e",
   "metadata": {},
   "outputs": [
    {
     "name": "stdout",
     "output_type": "stream",
     "text": [
      "Naïve Testing MAE: 0.96\n",
      "Testing MAE: 0.88\n"
     ]
    }
   ],
   "source": [
    "pred_test = results.predict(X_test)\n",
    "print('Naïve Testing MAE:', mae(y_test, np.mean(pred_test))) #naive mae\n",
    "print('Testing MAE:', mae(y_test, pred_test))"
   ]
  },
  {
   "cell_type": "code",
   "execution_count": 98,
   "id": "a6497417-70ae-4cad-af20-890a641b280a",
   "metadata": {},
   "outputs": [],
   "source": [
    "Y = new_df['Price']\n",
    "X = new_df['storage_bcf']\n",
    "X = sm.add_constant(X)   # add a constant to the model\n",
    "model = sm.OLS(Y,X)\n",
    "results = model.fit()"
   ]
  },
  {
   "cell_type": "code",
   "execution_count": 100,
   "id": "4e51f462-9e57-4560-95f3-4355a9851f3f",
   "metadata": {},
   "outputs": [],
   "source": [
    "results_as_html = results.summary().tables[1].as_html()\n",
    "results_new_df = pd.read_html(results_as_html, header=0, index_col=0)[0]\n",
    "\n",
    "intercept, slope = results_new_df['coef'][0], results_new_df['coef'][1]"
   ]
  },
  {
   "cell_type": "code",
   "execution_count": 101,
   "id": "2a2b1044-5f0f-4e84-88d8-8f4d9de0ebd6",
   "metadata": {},
   "outputs": [
    {
     "name": "stdout",
     "output_type": "stream",
     "text": [
      "Correlation coefficient between X and Y: -0.2\n"
     ]
    }
   ],
   "source": [
    "correl = new_df.storage_bcf.corr(new_df.Price)\n",
    "print('Correlation coefficient between X and Y:', round(correl, 2))"
   ]
  },
  {
   "cell_type": "code",
   "execution_count": 102,
   "id": "1828acca-f62d-486f-a979-bda48db826b7",
   "metadata": {},
   "outputs": [
    {
     "data": {
      "image/png": "[encoded data removed]",
      "text/plain": [
       "<Figure size 1080x648 with 1 Axes>"
      ]
     },
     "metadata": {},
     "output_type": "display_data"
    }
   ],
   "source": [
    "# plot the data points using a scatter plot\n",
    "sns.scatterplot(x=\"storage_bcf\", y=\"Price\", data=new_df)\n",
    "\n",
    "axes = plt.gca()   # get axes instance of current figure\n",
    "x_vals = np.array(axes.get_xlim())   # get x-axis limits\n",
    "y_vals = intercept + (slope * x_vals)   # define the equation of the regression line\n",
    "plt.plot(x_vals, y_vals, '--', color='r')   # draw the regression line on top of the scatter plot\n",
    "plt.show()"
   ]
  },
  {
   "cell_type": "code",
   "execution_count": 103,
   "id": "4debbc31-c531-479b-bfa8-f11f90964379",
   "metadata": {},
   "outputs": [],
   "source": [
    "Y = new_df['Price']\n",
    "X = new_df['Volume']\n",
    "X = sm.add_constant(X)   # add a constant to the model\n",
    "model = sm.OLS(Y,X)\n",
    "results = model.fit()"
   ]
  },
  {
   "cell_type": "code",
   "execution_count": 104,
   "id": "0fb10825-1c89-4c91-a628-91bf6c44c9fa",
   "metadata": {},
   "outputs": [],
   "source": [
    "results_as_html = results.summary().tables[1].as_html()\n",
    "results_new_df = pd.read_html(results_as_html, header=0, index_col=0)[0]\n",
    "\n",
    "intercept, slope = results_new_df['coef'][0], results_new_df['coef'][1]"
   ]
  },
  {
   "cell_type": "code",
   "execution_count": 105,
   "id": "cf9c8c90-609f-4ac5-bb3c-703bcac1ee9f",
   "metadata": {},
   "outputs": [
    {
     "name": "stdout",
     "output_type": "stream",
     "text": [
      "Correlation coefficient between X and Y: -0.19\n"
     ]
    }
   ],
   "source": [
    "correl = new_df.Volume.corr(new_df.Price)\n",
    "print('Correlation coefficient between X and Y:', round(correl, 2))"
   ]
  },
  {
   "cell_type": "code",
   "execution_count": 106,
   "id": "31729f86-1b32-47d1-b749-6c616a886411",
   "metadata": {},
   "outputs": [
    {
     "data": {
      "image/png": "[encoded data removed]",
      "text/plain": [
       "<Figure size 1080x648 with 1 Axes>"
      ]
     },
     "metadata": {},
     "output_type": "display_data"
    }
   ],
   "source": [
    "# plot the data points using a scatter plot\n",
    "sns.scatterplot(x=\"Volume\", y=\"Price\", data=new_df)\n",
    "\n",
    "axes = plt.gca()   # get axes instance of current figure\n",
    "x_vals = np.array(axes.get_xlim())   # get x-axis limits\n",
    "y_vals = intercept + (slope * x_vals)   # define the equation of the regression line\n",
    "plt.plot(x_vals, y_vals, '--', color='r')   # draw the regression line on top of the scatter plot\n",
    "plt.show()"
   ]
  },
  {
   "cell_type": "code",
   "execution_count": 107,
   "id": "f79375ee-f338-4331-b0a8-cd0f8fed54fd",
   "metadata": {},
   "outputs": [],
   "source": [
    "from statsmodels.tsa.seasonal import STL\n",
    "\n",
    "import matplotlib.pyplot as plt\n",
    "import seaborn as sns"
   ]
  },
  {
   "cell_type": "code",
   "execution_count": null,
   "id": "dff77560-f25d-4d00-9652-1645243b8087",
   "metadata": {},
   "outputs": [],
   "source": []
  }
 ],
 "metadata": {
  "kernelspec": {
   "display_name": "Python 3 (ipykernel)",
   "language": "python",
   "name": "python3"
  },
  "language_info": {
   "codemirror_mode": {
    "name": "ipython",
    "version": 3
   },
   "file_extension": ".py",
   "mimetype": "text/x-python",
   "name": "python",
   "nbconvert_exporter": "python",
   "pygments_lexer": "ipython3",
   "version": "3.9.12"
  }
 },
 "nbformat": 4,
 "nbformat_minor": 5
}
